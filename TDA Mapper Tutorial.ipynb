{
 "cells": [
  {
   "cell_type": "markdown",
   "id": "inside-gasoline",
   "metadata": {},
   "source": [
    "# TDA Mapper Tutorial in R"
   ]
  },
  {
   "cell_type": "markdown",
   "id": "specialized-seminar",
   "metadata": {},
   "source": [
    "### Imports\n",
    "If data is in csv format, we don't need readxl"
   ]
  },
  {
   "cell_type": "code",
   "execution_count": 2,
   "id": "handed-hayes",
   "metadata": {},
   "outputs": [
    {
     "name": "stderr",
     "output_type": "stream",
     "text": [
      "Warning message:\n",
      "\"package 'igraph' was built under R version 4.0.3\"\n",
      "\n",
      "Attaching package: 'igraph'\n",
      "\n",
      "\n",
      "The following objects are masked from 'package:stats':\n",
      "\n",
      "    decompose, spectrum\n",
      "\n",
      "\n",
      "The following object is masked from 'package:base':\n",
      "\n",
      "    union\n",
      "\n",
      "\n"
     ]
    }
   ],
   "source": [
    "library(readxl)\n",
    "library(TDAmapper)\n",
    "library(igraph)"
   ]
  },
  {
   "cell_type": "markdown",
   "id": "handed-ontario",
   "metadata": {},
   "source": [
    "### Load data\n"
   ]
  },
  {
   "cell_type": "code",
   "execution_count": 3,
   "id": "aquatic-digit",
   "metadata": {
    "scrolled": true
   },
   "outputs": [
    {
     "name": "stderr",
     "output_type": "stream",
     "text": [
      "New names:\n",
      "* `` -> ...1\n",
      "\n"
     ]
    }
   ],
   "source": [
    "# This is the path where your file is located\n",
    "path <- \"C:/Users/cashe/OneDrive/Desktop/Data Science/Mississippi River analysis/Cleaned data/Predict_summer_13_backwater.xlsx\"\n",
    "data <- read_excel(path)"
   ]
  },
  {
   "cell_type": "markdown",
   "id": "functioning-uncle",
   "metadata": {},
   "source": [
    "If the data is in csv, use"
   ]
  },
  {
   "cell_type": "code",
   "execution_count": 13,
   "id": "renewable-roommate",
   "metadata": {},
   "outputs": [],
   "source": [
    "# data <- read.csv(path)"
   ]
  },
  {
   "cell_type": "markdown",
   "id": "informal-portal",
   "metadata": {},
   "source": [
    "### Filter data to only select continuous variables"
   ]
  },
  {
   "cell_type": "code",
   "execution_count": 4,
   "id": "educational-anchor",
   "metadata": {},
   "outputs": [],
   "source": [
    "keep <- c(\"WDP\",\"SECCHI\",\"TEMP\",\"DO\",\"TURB\",\"COND\",\"VEL\",\"SS\",\n",
    "          \"PredictedTN\",\"PredictedTP\",\"CHLcal\")\n",
    "data_TDA <- data[,(names(data) %in% keep)]"
   ]
  },
  {
   "cell_type": "markdown",
   "id": "weird-indonesian",
   "metadata": {},
   "source": [
    "### Filter function and parameter choice\n",
    "Our chosen filter function is the projection onto the first 2 principle components of the data. The function prcomp returns the PCA analyis. It has the following parameters:\n",
    "\n",
    "1. center = TRUE : centers every attribute to have a mean of 0.\n",
    "2. scale. = TRUE : scales every attribute to have a variance of 1.\n",
    "3. retx = TRUE: lets us retain the rotated variables and data projections"
   ]
  },
  {
   "cell_type": "code",
   "execution_count": 5,
   "id": "better-effects",
   "metadata": {},
   "outputs": [],
   "source": [
    "pca <- prcomp(data_TDA,center = TRUE,scale.=TRUE,retx = TRUE)"
   ]
  },
  {
   "cell_type": "markdown",
   "id": "finnish-weight",
   "metadata": {},
   "source": [
    "We want our filter values to be the projections onto the first 2 principle components, so we will pull them from the pca object like this:"
   ]
  },
  {
   "cell_type": "code",
   "execution_count": 6,
   "id": "advance-contact",
   "metadata": {},
   "outputs": [],
   "source": [
    "proj1 <- pca$x[,1]\n",
    "proj2 <- pca$x[,2]"
   ]
  },
  {
   "cell_type": "markdown",
   "id": "compatible-nelson",
   "metadata": {},
   "source": [
    "mapper2D has the following parameters:\n",
    "\n",
    "1. distance_matrix : the distance matrix of every point in the dataset\n",
    "2. filter_values : the resulting values of our filter function\n",
    "3. num_intervals : the number of intervals to split the filter values into on each axis\n",
    "4. percent_overlap: how much the intervals should overlap with eachother\n",
    "5. num_bins_when_clustering: the number of bins when clustering into nodes"
   ]
  },
  {
   "cell_type": "code",
   "execution_count": 7,
   "id": "better-highlight",
   "metadata": {},
   "outputs": [],
   "source": [
    "# Handy function in R to create the distance matrix\n",
    "distance_matrix <- dist(data_TDA)\n",
    "# Because we are using mapper2D, both filter values\n",
    "# and num_intervals must be vectors of length 2\n",
    "filter_values <- list(proj1,proj2)\n",
    "num_intervals <- c(6,6)\n",
    "percent_overlap <- 25\n",
    "num_bins <- 8"
   ]
  },
  {
   "cell_type": "markdown",
   "id": "valid-emission",
   "metadata": {},
   "source": [
    "### Define mapper object\n",
    "Using selected parameters we can create a mapper object like so"
   ]
  },
  {
   "cell_type": "code",
   "execution_count": 8,
   "id": "conceptual-companion",
   "metadata": {},
   "outputs": [
    {
     "name": "stdout",
     "output_type": "stream",
     "text": [
      "[1] \"Level set has only one point\"\n",
      "[1] \"Level set is empty\"\n",
      "[1] \"Level set has only one point\"\n",
      "[1] \"Level set is empty\"\n",
      "[1] \"Level set is empty\"\n",
      "[1] \"Level set has only one point\"\n",
      "[1] \"Level set is empty\"\n",
      "[1] \"Level set is empty\"\n",
      "[1] \"Level set is empty\"\n",
      "[1] \"Level set is empty\"\n",
      "[1] \"Level set is empty\"\n",
      "[1] \"Level set is empty\"\n",
      "[1] \"Level set is empty\"\n",
      "[1] \"Level set is empty\"\n",
      "[1] \"Level set is empty\"\n",
      "[1] \"Level set is empty\"\n",
      "[1] \"Level set has only one point\"\n",
      "[1] \"Level set is empty\"\n",
      "[1] \"Level set is empty\"\n"
     ]
    }
   ],
   "source": [
    "map <- mapper2D(distance_matrix = distance_matrix,\n",
    "                    filter_values = filter_values,\n",
    "                    num_intervals = num_intervals,\n",
    "                    percent_overlap = percent_overlap,\n",
    "                    num_bins_when_clustering = num_bins)"
   ]
  },
  {
   "cell_type": "markdown",
   "id": "acceptable-language",
   "metadata": {},
   "source": [
    "### Visualize output\n",
    "To visualize our graph, we need to decide on how to label our vertices, and how to size our vertices. For simplicity, we will label the vertices by the number of points in it, and also size the vertices proportional to the number of points in it."
   ]
  },
  {
   "cell_type": "code",
   "execution_count": 39,
   "id": "starting-merchandise",
   "metadata": {},
   "outputs": [],
   "source": [
    "# This is the label paramater in plot\n",
    "# FUN parameter indicates how to label each vertice,in this\n",
    "# case we are labeling it by the length function\n",
    "vertex.label <- lapply(map$points_in_vertex, FUN = length)\n",
    "\n",
    "# This function determines the sizing of each vertex in the mapper output\n",
    "scale_vertex_by_points <- function(mapper_object, scalar_constant = 75){\n",
    "  vertex_size <- c()\n",
    "  # Iterate through each vertex, count the number of points contained in it\n",
    "  for (i in mapper_object$points_in_vertex){\n",
    "    append_value <- length(na.omit(i))\n",
    "    vertex_size <- append(vertex_size, append_value)\n",
    "  }\n",
    "  # Function to normalize the igraph vertex scalar\n",
    "  normalize_vector <- function(x) {x / sqrt(sum(x^2))}\n",
    "  # Generate normalized vertex scalar, multiply by scalar_constant (scalar_constant = 75 by default)\n",
    "  vertex_size <- normalize_vector(vertex_size) * scalar_constant\n",
    "  return(vertex_size)\n",
    "}"
   ]
  },
  {
   "cell_type": "markdown",
   "id": "driving-dairy",
   "metadata": {},
   "source": [
    "We need to clarify what we want to plot by getting a graph object from the map"
   ]
  },
  {
   "cell_type": "code",
   "execution_count": 32,
   "id": "revised-superintendent",
   "metadata": {},
   "outputs": [],
   "source": [
    "Graph <- graph.adjacency(map$adjacency, mode=\"undirected\")"
   ]
  },
  {
   "cell_type": "markdown",
   "id": "industrial-titanium",
   "metadata": {},
   "source": [
    "We can now plot our output. There are many parameters that can be tweaked, but we found these ones to produce good outputs."
   ]
  },
  {
   "cell_type": "code",
   "execution_count": 42,
   "id": "dried-antenna",
   "metadata": {},
   "outputs": [
    {
     "name": "stderr",
     "output_type": "stream",
     "text": [
      "Warning message in text.default(x, y, labels = labels, col = label.color, family = label.family, :\n",
      "\"font family not found in Windows font database\"\n"
     ]
    },
    {
     "data": {
      "image/png": "[encoded data removed]",
      "text/plain": [
       "Plot with title \"\""
      ]
     },
     "metadata": {
      "image/png": {
       "height": 420,
       "width": 420
      }
     },
     "output_type": "display_data"
    }
   ],
   "source": [
    "plot(Graph, \n",
    "     layout = layout.auto(Graph),\n",
    "     vertex.size = scale_vertex_by_points(map),\n",
    "     vertex.label = vertex.label,\n",
    "     vertex.label.family=\"Helvetica\",\n",
    "     vertex.label.color=c(\"black\"),\n",
    "     vertex.label.dist= -2,\n",
    "     vertex.label.degree=20,\n",
    "     edge.color=\"black\",                           # Edge color\n",
    "     edge.width=2,                                 # Edge width, defaults to 1\n",
    "     edge.arrow.size=1,                            # Arrow size, defaults to 1\n",
    "     edge.arrow.width=1,                           # Arrow width, defaults to 1\n",
    "     edge.lty=\"solid\",                             # Line type, could be 0 or “blank”, 1 or “solid”, 2 or “dashed”, 3 or “dotted”, 4 or “dotdash”, 5 or “longdash”, 6 or “twodash”\n",
    "     edge.curved=0.3\n",
    ")"
   ]
  },
  {
   "cell_type": "markdown",
   "id": "polar-johnston",
   "metadata": {},
   "source": [
    "### Statistical Analysis\n",
    "We can also look at individual vertices within an output to get summary statistics of each variable for a given vertice, as well as look at the intersection between vertices.\n",
    "\n",
    "First, lets look at the number of vertices in this output:"
   ]
  },
  {
   "cell_type": "code",
   "execution_count": 10,
   "id": "precious-wisdom",
   "metadata": {},
   "outputs": [
    {
     "data": {
      "text/html": [
       "30"
      ],
      "text/latex": [
       "30"
      ],
      "text/markdown": [
       "30"
      ],
      "text/plain": [
       "[1] 30"
      ]
     },
     "metadata": {},
     "output_type": "display_data"
    }
   ],
   "source": [
    "map$num_vertices"
   ]
  },
  {
   "cell_type": "markdown",
   "id": "threaded-north",
   "metadata": {},
   "source": [
    "Now, lets look at the members of a random vertice by usint the points_in_vertex attribute of the mapper object:"
   ]
  },
  {
   "cell_type": "code",
   "execution_count": 13,
   "id": "statewide-senegal",
   "metadata": {},
   "outputs": [
    {
     "data": {
      "text/html": [
       "<style>\n",
       ".list-inline {list-style: none; margin:0; padding: 0}\n",
       ".list-inline>li {display: inline-block}\n",
       ".list-inline>li:not(:last-child)::after {content: \"\\00b7\"; padding: 0 .5ex}\n",
       "</style>\n",
       "<ol class=list-inline><li>37</li><li>173</li><li>175</li><li>176</li><li>203</li><li>204</li><li>239</li><li>250</li><li>370</li><li>371</li><li>397</li><li>399</li><li>415</li><li>447</li><li>449</li><li>481</li><li>511</li><li>532</li><li>590</li><li>611</li><li>612</li><li>614</li><li>615</li><li>660</li><li>694</li><li>700</li><li>703</li><li>738</li><li>880</li><li>882</li><li>885</li><li>898</li><li>900</li><li>930</li><li>932</li><li>934</li><li>936</li><li>941</li><li>970</li><li>1048</li><li>1049</li><li>1061</li><li>1062</li><li>1066</li><li>1082</li><li>1083</li><li>1109</li><li>1110</li><li>1131</li><li>1132</li><li>1136</li><li>1145</li><li>1146</li><li>1158</li><li>1187</li><li>1188</li><li>1191</li><li>1214</li><li>1224</li><li>1225</li><li>1226</li><li>1227</li><li>1228</li><li>1229</li><li>1230</li><li>1231</li><li>1233</li><li>1237</li><li>1238</li><li>1239</li><li>1240</li><li>1241</li><li>1242</li><li>1244</li><li>1251</li><li>1254</li><li>1258</li><li>1259</li><li>1260</li><li>1261</li><li>1262</li><li>1263</li><li>1264</li><li>1265</li><li>1266</li><li>1267</li><li>1268</li><li>1271</li><li>1276</li><li>1277</li><li>1278</li><li>1299</li><li>1303</li><li>1314</li><li>1315</li><li>1316</li><li>1322</li><li>1324</li><li>1325</li><li>1332</li><li>1342</li><li>1348</li><li>1349</li><li>1350</li><li>1354</li><li>1356</li><li>1367</li><li>1372</li><li>1377</li><li>1378</li><li>1379</li><li>1385</li><li>1386</li><li>1388</li><li>1390</li><li>1391</li><li>1394</li><li>1395</li><li>1424</li></ol>\n"
      ],
      "text/latex": [
       "\\begin{enumerate*}\n",
       "\\item 37\n",
       "\\item 173\n",
       "\\item 175\n",
       "\\item 176\n",
       "\\item 203\n",
       "\\item 204\n",
       "\\item 239\n",
       "\\item 250\n",
       "\\item 370\n",
       "\\item 371\n",
       "\\item 397\n",
       "\\item 399\n",
       "\\item 415\n",
       "\\item 447\n",
       "\\item 449\n",
       "\\item 481\n",
       "\\item 511\n",
       "\\item 532\n",
       "\\item 590\n",
       "\\item 611\n",
       "\\item 612\n",
       "\\item 614\n",
       "\\item 615\n",
       "\\item 660\n",
       "\\item 694\n",
       "\\item 700\n",
       "\\item 703\n",
       "\\item 738\n",
       "\\item 880\n",
       "\\item 882\n",
       "\\item 885\n",
       "\\item 898\n",
       "\\item 900\n",
       "\\item 930\n",
       "\\item 932\n",
       "\\item 934\n",
       "\\item 936\n",
       "\\item 941\n",
       "\\item 970\n",
       "\\item 1048\n",
       "\\item 1049\n",
       "\\item 1061\n",
       "\\item 1062\n",
       "\\item 1066\n",
       "\\item 1082\n",
       "\\item 1083\n",
       "\\item 1109\n",
       "\\item 1110\n",
       "\\item 1131\n",
       "\\item 1132\n",
       "\\item 1136\n",
       "\\item 1145\n",
       "\\item 1146\n",
       "\\item 1158\n",
       "\\item 1187\n",
       "\\item 1188\n",
       "\\item 1191\n",
       "\\item 1214\n",
       "\\item 1224\n",
       "\\item 1225\n",
       "\\item 1226\n",
       "\\item 1227\n",
       "\\item 1228\n",
       "\\item 1229\n",
       "\\item 1230\n",
       "\\item 1231\n",
       "\\item 1233\n",
       "\\item 1237\n",
       "\\item 1238\n",
       "\\item 1239\n",
       "\\item 1240\n",
       "\\item 1241\n",
       "\\item 1242\n",
       "\\item 1244\n",
       "\\item 1251\n",
       "\\item 1254\n",
       "\\item 1258\n",
       "\\item 1259\n",
       "\\item 1260\n",
       "\\item 1261\n",
       "\\item 1262\n",
       "\\item 1263\n",
       "\\item 1264\n",
       "\\item 1265\n",
       "\\item 1266\n",
       "\\item 1267\n",
       "\\item 1268\n",
       "\\item 1271\n",
       "\\item 1276\n",
       "\\item 1277\n",
       "\\item 1278\n",
       "\\item 1299\n",
       "\\item 1303\n",
       "\\item 1314\n",
       "\\item 1315\n",
       "\\item 1316\n",
       "\\item 1322\n",
       "\\item 1324\n",
       "\\item 1325\n",
       "\\item 1332\n",
       "\\item 1342\n",
       "\\item 1348\n",
       "\\item 1349\n",
       "\\item 1350\n",
       "\\item 1354\n",
       "\\item 1356\n",
       "\\item 1367\n",
       "\\item 1372\n",
       "\\item 1377\n",
       "\\item 1378\n",
       "\\item 1379\n",
       "\\item 1385\n",
       "\\item 1386\n",
       "\\item 1388\n",
       "\\item 1390\n",
       "\\item 1391\n",
       "\\item 1394\n",
       "\\item 1395\n",
       "\\item 1424\n",
       "\\end{enumerate*}\n"
      ],
      "text/markdown": [
       "1. 37\n",
       "2. 173\n",
       "3. 175\n",
       "4. 176\n",
       "5. 203\n",
       "6. 204\n",
       "7. 239\n",
       "8. 250\n",
       "9. 370\n",
       "10. 371\n",
       "11. 397\n",
       "12. 399\n",
       "13. 415\n",
       "14. 447\n",
       "15. 449\n",
       "16. 481\n",
       "17. 511\n",
       "18. 532\n",
       "19. 590\n",
       "20. 611\n",
       "21. 612\n",
       "22. 614\n",
       "23. 615\n",
       "24. 660\n",
       "25. 694\n",
       "26. 700\n",
       "27. 703\n",
       "28. 738\n",
       "29. 880\n",
       "30. 882\n",
       "31. 885\n",
       "32. 898\n",
       "33. 900\n",
       "34. 930\n",
       "35. 932\n",
       "36. 934\n",
       "37. 936\n",
       "38. 941\n",
       "39. 970\n",
       "40. 1048\n",
       "41. 1049\n",
       "42. 1061\n",
       "43. 1062\n",
       "44. 1066\n",
       "45. 1082\n",
       "46. 1083\n",
       "47. 1109\n",
       "48. 1110\n",
       "49. 1131\n",
       "50. 1132\n",
       "51. 1136\n",
       "52. 1145\n",
       "53. 1146\n",
       "54. 1158\n",
       "55. 1187\n",
       "56. 1188\n",
       "57. 1191\n",
       "58. 1214\n",
       "59. 1224\n",
       "60. 1225\n",
       "61. 1226\n",
       "62. 1227\n",
       "63. 1228\n",
       "64. 1229\n",
       "65. 1230\n",
       "66. 1231\n",
       "67. 1233\n",
       "68. 1237\n",
       "69. 1238\n",
       "70. 1239\n",
       "71. 1240\n",
       "72. 1241\n",
       "73. 1242\n",
       "74. 1244\n",
       "75. 1251\n",
       "76. 1254\n",
       "77. 1258\n",
       "78. 1259\n",
       "79. 1260\n",
       "80. 1261\n",
       "81. 1262\n",
       "82. 1263\n",
       "83. 1264\n",
       "84. 1265\n",
       "85. 1266\n",
       "86. 1267\n",
       "87. 1268\n",
       "88. 1271\n",
       "89. 1276\n",
       "90. 1277\n",
       "91. 1278\n",
       "92. 1299\n",
       "93. 1303\n",
       "94. 1314\n",
       "95. 1315\n",
       "96. 1316\n",
       "97. 1322\n",
       "98. 1324\n",
       "99. 1325\n",
       "100. 1332\n",
       "101. 1342\n",
       "102. 1348\n",
       "103. 1349\n",
       "104. 1350\n",
       "105. 1354\n",
       "106. 1356\n",
       "107. 1367\n",
       "108. 1372\n",
       "109. 1377\n",
       "110. 1378\n",
       "111. 1379\n",
       "112. 1385\n",
       "113. 1386\n",
       "114. 1388\n",
       "115. 1390\n",
       "116. 1391\n",
       "117. 1394\n",
       "118. 1395\n",
       "119. 1424\n",
       "\n",
       "\n"
      ],
      "text/plain": [
       "  [1]   37  173  175  176  203  204  239  250  370  371  397  399  415  447  449\n",
       " [16]  481  511  532  590  611  612  614  615  660  694  700  703  738  880  882\n",
       " [31]  885  898  900  930  932  934  936  941  970 1048 1049 1061 1062 1066 1082\n",
       " [46] 1083 1109 1110 1131 1132 1136 1145 1146 1158 1187 1188 1191 1214 1224 1225\n",
       " [61] 1226 1227 1228 1229 1230 1231 1233 1237 1238 1239 1240 1241 1242 1244 1251\n",
       " [76] 1254 1258 1259 1260 1261 1262 1263 1264 1265 1266 1267 1268 1271 1276 1277\n",
       " [91] 1278 1299 1303 1314 1315 1316 1322 1324 1325 1332 1342 1348 1349 1350 1354\n",
       "[106] 1356 1367 1372 1377 1378 1379 1385 1386 1388 1390 1391 1394 1395 1424"
      ]
     },
     "metadata": {},
     "output_type": "display_data"
    }
   ],
   "source": [
    "map$points_in_vertex[[25]]"
   ]
  },
  {
   "cell_type": "markdown",
   "id": "union-jimmy",
   "metadata": {},
   "source": [
    "These are all the indices of the points in the original dataset that are in vertex 25. But which vertex is this? We can get size of this vertice and look for it on the output by using the length function."
   ]
  },
  {
   "cell_type": "code",
   "execution_count": 14,
   "id": "monetary-contrast",
   "metadata": {},
   "outputs": [
    {
     "data": {
      "text/html": [
       "119"
      ],
      "text/latex": [
       "119"
      ],
      "text/markdown": [
       "119"
      ],
      "text/plain": [
       "[1] 119"
      ]
     },
     "metadata": {},
     "output_type": "display_data"
    }
   ],
   "source": [
    "length(map$points_in_vertex[[25]])"
   ]
  },
  {
   "cell_type": "markdown",
   "id": "happy-feature",
   "metadata": {},
   "source": [
    "Lets say we want to find how many datapoints that the 858 vertex and 559 vertex have in common. First, we need to figure out where in the points_in_vertex attribute these vertices are. To see the size of each vertex in the mapper object, we can use lapply like this:"
   ]
  },
  {
   "cell_type": "code",
   "execution_count": 20,
   "id": "divided-swedish",
   "metadata": {},
   "outputs": [
    {
     "data": {
      "text/html": [
       "<style>\n",
       ".list-inline {list-style: none; margin:0; padding: 0}\n",
       ".list-inline>li {display: inline-block}\n",
       ".list-inline>li:not(:last-child)::after {content: \"\\00b7\"; padding: 0 .5ex}\n",
       "</style>\n",
       "<ol class=list-inline><li>1</li><li>2</li><li>1</li><li>1</li><li>12</li><li>1</li><li>1</li><li>1</li><li>1</li><li>38</li><li>92</li><li>10</li><li>1</li><li>1</li><li>2</li><li>6</li><li>101</li><li>858</li><li>559</li><li>1</li><li>4</li><li>1</li><li>111</li><li>394</li><li>119</li><li>20</li><li>18</li><li>1</li><li>2</li><li>1</li></ol>\n"
      ],
      "text/latex": [
       "\\begin{enumerate*}\n",
       "\\item 1\n",
       "\\item 2\n",
       "\\item 1\n",
       "\\item 1\n",
       "\\item 12\n",
       "\\item 1\n",
       "\\item 1\n",
       "\\item 1\n",
       "\\item 1\n",
       "\\item 38\n",
       "\\item 92\n",
       "\\item 10\n",
       "\\item 1\n",
       "\\item 1\n",
       "\\item 2\n",
       "\\item 6\n",
       "\\item 101\n",
       "\\item 858\n",
       "\\item 559\n",
       "\\item 1\n",
       "\\item 4\n",
       "\\item 1\n",
       "\\item 111\n",
       "\\item 394\n",
       "\\item 119\n",
       "\\item 20\n",
       "\\item 18\n",
       "\\item 1\n",
       "\\item 2\n",
       "\\item 1\n",
       "\\end{enumerate*}\n"
      ],
      "text/markdown": [
       "1. 1\n",
       "2. 2\n",
       "3. 1\n",
       "4. 1\n",
       "5. 12\n",
       "6. 1\n",
       "7. 1\n",
       "8. 1\n",
       "9. 1\n",
       "10. 38\n",
       "11. 92\n",
       "12. 10\n",
       "13. 1\n",
       "14. 1\n",
       "15. 2\n",
       "16. 6\n",
       "17. 101\n",
       "18. 858\n",
       "19. 559\n",
       "20. 1\n",
       "21. 4\n",
       "22. 1\n",
       "23. 111\n",
       "24. 394\n",
       "25. 119\n",
       "26. 20\n",
       "27. 18\n",
       "28. 1\n",
       "29. 2\n",
       "30. 1\n",
       "\n",
       "\n"
      ],
      "text/plain": [
       " [1]   1   2   1   1  12   1   1   1   1  38  92  10   1   1   2   6 101 858 559\n",
       "[20]   1   4   1 111 394 119  20  18   1   2   1"
      ]
     },
     "metadata": {},
     "output_type": "display_data"
    }
   ],
   "source": [
    "sizes <- as.numeric(lapply(map$points_in_vertex, FUN = length))\n",
    "sizes"
   ]
  },
  {
   "cell_type": "markdown",
   "id": "adopted-applicant",
   "metadata": {},
   "source": [
    "To get the indices of the vertices we want, we can use the which function"
   ]
  },
  {
   "cell_type": "code",
   "execution_count": 28,
   "id": "after-medicine",
   "metadata": {
    "scrolled": true
   },
   "outputs": [
    {
     "data": {
      "text/html": [
       "18"
      ],
      "text/latex": [
       "18"
      ],
      "text/markdown": [
       "18"
      ],
      "text/plain": [
       "[1] 18"
      ]
     },
     "metadata": {},
     "output_type": "display_data"
    }
   ],
   "source": [
    "which(sizes == 858)"
   ]
  },
  {
   "cell_type": "code",
   "execution_count": 29,
   "id": "excessive-incidence",
   "metadata": {},
   "outputs": [
    {
     "data": {
      "text/html": [
       "19"
      ],
      "text/latex": [
       "19"
      ],
      "text/markdown": [
       "19"
      ],
      "text/plain": [
       "[1] 19"
      ]
     },
     "metadata": {},
     "output_type": "display_data"
    }
   ],
   "source": [
    "which(sizes == 559)"
   ]
  },
  {
   "cell_type": "markdown",
   "id": "combined-kazakhstan",
   "metadata": {},
   "source": [
    "To get the intersection of these vertices, we use the intersect function like so:"
   ]
  },
  {
   "cell_type": "code",
   "execution_count": 31,
   "id": "still-universal",
   "metadata": {},
   "outputs": [
    {
     "data": {
      "text/html": [
       "<style>\n",
       ".list-inline {list-style: none; margin:0; padding: 0}\n",
       ".list-inline>li {display: inline-block}\n",
       ".list-inline>li:not(:last-child)::after {content: \"\\00b7\"; padding: 0 .5ex}\n",
       "</style>\n",
       "<ol class=list-inline><li>30</li><li>37</li><li>52</li><li>70</li><li>156</li><li>157</li><li>173</li><li>190</li><li>198</li><li>199</li><li>204</li><li>225</li><li>226</li><li>231</li><li>234</li><li>237</li><li>238</li><li>240</li><li>242</li><li>250</li><li>251</li><li>261</li><li>263</li><li>288</li><li>289</li><li>293</li><li>294</li><li>297</li><li>299</li><li>300</li><li>301</li><li>302</li><li>304</li><li>305</li><li>308</li><li>313</li><li>345</li><li>351</li><li>352</li><li>353</li><li>354</li><li>355</li><li>356</li><li>358</li><li>359</li><li>361</li><li>363</li><li>365</li><li>366</li><li>370</li><li>371</li><li>374</li><li>395</li><li>397</li><li>398</li><li>399</li><li>400</li><li>403</li><li>409</li><li>443</li><li>468</li><li>469</li><li>470</li><li>487</li><li>496</li><li>497</li><li>532</li><li>552</li><li>557</li><li>559</li><li>562</li><li>563</li><li>565</li><li>567</li><li>589</li><li>599</li><li>601</li><li>602</li><li>607</li><li>608</li><li>609</li><li>616</li><li>617</li><li>618</li><li>629</li><li>630</li><li>638</li><li>641</li><li>642</li><li>644</li><li>648</li><li>649</li><li>650</li><li>652</li><li>654</li><li>659</li><li>661</li><li>663</li><li>677</li><li>679</li><li>680</li><li>682</li><li>683</li><li>696</li><li>700</li><li>702</li><li>703</li><li>704</li><li>706</li><li>711</li><li>712</li><li>717</li><li>719</li><li>722</li><li>725</li><li>726</li><li>728</li><li>734</li><li>747</li><li>753</li><li>767</li><li>768</li><li>782</li><li>784</li><li>788</li><li>790</li><li>791</li><li>800</li><li>801</li><li>813</li><li>825</li><li>826</li><li>847</li><li>853</li><li>880</li><li>882</li><li>885</li><li>894</li><li>900</li><li>903</li><li>905</li><li>906</li><li>932</li><li>933</li><li>934</li><li>941</li><li>943</li><li>946</li><li>947</li><li>954</li><li>958</li><li>960</li><li>964</li><li>965</li><li>972</li><li>987</li><li>991</li><li>993</li><li>995</li><li>1001</li><li>1002</li><li>1003</li><li>1005</li><li>1006</li><li>1007</li><li>1008</li><li>1009</li><li>1012</li><li>1017</li><li>1018</li><li>1022</li><li>1023</li><li>1034</li><li>1036</li><li>1049</li><li>1055</li><li>1057</li><li>1063</li><li>1068</li><li>1069</li><li>1070</li><li>1074</li><li>1082</li><li>1083</li><li>1090</li><li>1095</li><li>1109</li><li>1110</li><li>1132</li><li>1136</li><li>1142</li><li>1143</li><li>1151</li><li>1152</li><li>1153</li><li>1156</li><li>1158</li><li>1161</li><li>1176</li><li>1177</li><li>1181</li><li>1183</li><li>1187</li><li>1188</li><li>1190</li><li>1191</li><li>1192</li><li>1194</li><li>1199</li><li>1201</li><li>1204</li><li>1206</li><li>1212</li><li>1223</li><li>1224</li><li>1225</li><li>1226</li><li>1242</li><li>1251</li><li>1263</li><li>1267</li><li>1269</li><li>1270</li><li>1299</li><li>1300</li><li>1304</li><li>1312</li><li>1314</li><li>1351</li><li>1360</li><li>1361</li><li>1363</li><li>1385</li><li>1386</li><li>1390</li><li>1394</li><li>1424</li><li>1425</li></ol>\n"
      ],
      "text/latex": [
       "\\begin{enumerate*}\n",
       "\\item 30\n",
       "\\item 37\n",
       "\\item 52\n",
       "\\item 70\n",
       "\\item 156\n",
       "\\item 157\n",
       "\\item 173\n",
       "\\item 190\n",
       "\\item 198\n",
       "\\item 199\n",
       "\\item 204\n",
       "\\item 225\n",
       "\\item 226\n",
       "\\item 231\n",
       "\\item 234\n",
       "\\item 237\n",
       "\\item 238\n",
       "\\item 240\n",
       "\\item 242\n",
       "\\item 250\n",
       "\\item 251\n",
       "\\item 261\n",
       "\\item 263\n",
       "\\item 288\n",
       "\\item 289\n",
       "\\item 293\n",
       "\\item 294\n",
       "\\item 297\n",
       "\\item 299\n",
       "\\item 300\n",
       "\\item 301\n",
       "\\item 302\n",
       "\\item 304\n",
       "\\item 305\n",
       "\\item 308\n",
       "\\item 313\n",
       "\\item 345\n",
       "\\item 351\n",
       "\\item 352\n",
       "\\item 353\n",
       "\\item 354\n",
       "\\item 355\n",
       "\\item 356\n",
       "\\item 358\n",
       "\\item 359\n",
       "\\item 361\n",
       "\\item 363\n",
       "\\item 365\n",
       "\\item 366\n",
       "\\item 370\n",
       "\\item 371\n",
       "\\item 374\n",
       "\\item 395\n",
       "\\item 397\n",
       "\\item 398\n",
       "\\item 399\n",
       "\\item 400\n",
       "\\item 403\n",
       "\\item 409\n",
       "\\item 443\n",
       "\\item 468\n",
       "\\item 469\n",
       "\\item 470\n",
       "\\item 487\n",
       "\\item 496\n",
       "\\item 497\n",
       "\\item 532\n",
       "\\item 552\n",
       "\\item 557\n",
       "\\item 559\n",
       "\\item 562\n",
       "\\item 563\n",
       "\\item 565\n",
       "\\item 567\n",
       "\\item 589\n",
       "\\item 599\n",
       "\\item 601\n",
       "\\item 602\n",
       "\\item 607\n",
       "\\item 608\n",
       "\\item 609\n",
       "\\item 616\n",
       "\\item 617\n",
       "\\item 618\n",
       "\\item 629\n",
       "\\item 630\n",
       "\\item 638\n",
       "\\item 641\n",
       "\\item 642\n",
       "\\item 644\n",
       "\\item 648\n",
       "\\item 649\n",
       "\\item 650\n",
       "\\item 652\n",
       "\\item 654\n",
       "\\item 659\n",
       "\\item 661\n",
       "\\item 663\n",
       "\\item 677\n",
       "\\item 679\n",
       "\\item 680\n",
       "\\item 682\n",
       "\\item 683\n",
       "\\item 696\n",
       "\\item 700\n",
       "\\item 702\n",
       "\\item 703\n",
       "\\item 704\n",
       "\\item 706\n",
       "\\item 711\n",
       "\\item 712\n",
       "\\item 717\n",
       "\\item 719\n",
       "\\item 722\n",
       "\\item 725\n",
       "\\item 726\n",
       "\\item 728\n",
       "\\item 734\n",
       "\\item 747\n",
       "\\item 753\n",
       "\\item 767\n",
       "\\item 768\n",
       "\\item 782\n",
       "\\item 784\n",
       "\\item 788\n",
       "\\item 790\n",
       "\\item 791\n",
       "\\item 800\n",
       "\\item 801\n",
       "\\item 813\n",
       "\\item 825\n",
       "\\item 826\n",
       "\\item 847\n",
       "\\item 853\n",
       "\\item 880\n",
       "\\item 882\n",
       "\\item 885\n",
       "\\item 894\n",
       "\\item 900\n",
       "\\item 903\n",
       "\\item 905\n",
       "\\item 906\n",
       "\\item 932\n",
       "\\item 933\n",
       "\\item 934\n",
       "\\item 941\n",
       "\\item 943\n",
       "\\item 946\n",
       "\\item 947\n",
       "\\item 954\n",
       "\\item 958\n",
       "\\item 960\n",
       "\\item 964\n",
       "\\item 965\n",
       "\\item 972\n",
       "\\item 987\n",
       "\\item 991\n",
       "\\item 993\n",
       "\\item 995\n",
       "\\item 1001\n",
       "\\item 1002\n",
       "\\item 1003\n",
       "\\item 1005\n",
       "\\item 1006\n",
       "\\item 1007\n",
       "\\item 1008\n",
       "\\item 1009\n",
       "\\item 1012\n",
       "\\item 1017\n",
       "\\item 1018\n",
       "\\item 1022\n",
       "\\item 1023\n",
       "\\item 1034\n",
       "\\item 1036\n",
       "\\item 1049\n",
       "\\item 1055\n",
       "\\item 1057\n",
       "\\item 1063\n",
       "\\item 1068\n",
       "\\item 1069\n",
       "\\item 1070\n",
       "\\item 1074\n",
       "\\item 1082\n",
       "\\item 1083\n",
       "\\item 1090\n",
       "\\item 1095\n",
       "\\item 1109\n",
       "\\item 1110\n",
       "\\item 1132\n",
       "\\item 1136\n",
       "\\item 1142\n",
       "\\item 1143\n",
       "\\item 1151\n",
       "\\item 1152\n",
       "\\item 1153\n",
       "\\item 1156\n",
       "\\item 1158\n",
       "\\item 1161\n",
       "\\item 1176\n",
       "\\item 1177\n",
       "\\item 1181\n",
       "\\item 1183\n",
       "\\item 1187\n",
       "\\item 1188\n",
       "\\item 1190\n",
       "\\item 1191\n",
       "\\item 1192\n",
       "\\item 1194\n",
       "\\item 1199\n",
       "\\item 1201\n",
       "\\item 1204\n",
       "\\item 1206\n",
       "\\item 1212\n",
       "\\item 1223\n",
       "\\item 1224\n",
       "\\item 1225\n",
       "\\item 1226\n",
       "\\item 1242\n",
       "\\item 1251\n",
       "\\item 1263\n",
       "\\item 1267\n",
       "\\item 1269\n",
       "\\item 1270\n",
       "\\item 1299\n",
       "\\item 1300\n",
       "\\item 1304\n",
       "\\item 1312\n",
       "\\item 1314\n",
       "\\item 1351\n",
       "\\item 1360\n",
       "\\item 1361\n",
       "\\item 1363\n",
       "\\item 1385\n",
       "\\item 1386\n",
       "\\item 1390\n",
       "\\item 1394\n",
       "\\item 1424\n",
       "\\item 1425\n",
       "\\end{enumerate*}\n"
      ],
      "text/markdown": [
       "1. 30\n",
       "2. 37\n",
       "3. 52\n",
       "4. 70\n",
       "5. 156\n",
       "6. 157\n",
       "7. 173\n",
       "8. 190\n",
       "9. 198\n",
       "10. 199\n",
       "11. 204\n",
       "12. 225\n",
       "13. 226\n",
       "14. 231\n",
       "15. 234\n",
       "16. 237\n",
       "17. 238\n",
       "18. 240\n",
       "19. 242\n",
       "20. 250\n",
       "21. 251\n",
       "22. 261\n",
       "23. 263\n",
       "24. 288\n",
       "25. 289\n",
       "26. 293\n",
       "27. 294\n",
       "28. 297\n",
       "29. 299\n",
       "30. 300\n",
       "31. 301\n",
       "32. 302\n",
       "33. 304\n",
       "34. 305\n",
       "35. 308\n",
       "36. 313\n",
       "37. 345\n",
       "38. 351\n",
       "39. 352\n",
       "40. 353\n",
       "41. 354\n",
       "42. 355\n",
       "43. 356\n",
       "44. 358\n",
       "45. 359\n",
       "46. 361\n",
       "47. 363\n",
       "48. 365\n",
       "49. 366\n",
       "50. 370\n",
       "51. 371\n",
       "52. 374\n",
       "53. 395\n",
       "54. 397\n",
       "55. 398\n",
       "56. 399\n",
       "57. 400\n",
       "58. 403\n",
       "59. 409\n",
       "60. 443\n",
       "61. 468\n",
       "62. 469\n",
       "63. 470\n",
       "64. 487\n",
       "65. 496\n",
       "66. 497\n",
       "67. 532\n",
       "68. 552\n",
       "69. 557\n",
       "70. 559\n",
       "71. 562\n",
       "72. 563\n",
       "73. 565\n",
       "74. 567\n",
       "75. 589\n",
       "76. 599\n",
       "77. 601\n",
       "78. 602\n",
       "79. 607\n",
       "80. 608\n",
       "81. 609\n",
       "82. 616\n",
       "83. 617\n",
       "84. 618\n",
       "85. 629\n",
       "86. 630\n",
       "87. 638\n",
       "88. 641\n",
       "89. 642\n",
       "90. 644\n",
       "91. 648\n",
       "92. 649\n",
       "93. 650\n",
       "94. 652\n",
       "95. 654\n",
       "96. 659\n",
       "97. 661\n",
       "98. 663\n",
       "99. 677\n",
       "100. 679\n",
       "101. 680\n",
       "102. 682\n",
       "103. 683\n",
       "104. 696\n",
       "105. 700\n",
       "106. 702\n",
       "107. 703\n",
       "108. 704\n",
       "109. 706\n",
       "110. 711\n",
       "111. 712\n",
       "112. 717\n",
       "113. 719\n",
       "114. 722\n",
       "115. 725\n",
       "116. 726\n",
       "117. 728\n",
       "118. 734\n",
       "119. 747\n",
       "120. 753\n",
       "121. 767\n",
       "122. 768\n",
       "123. 782\n",
       "124. 784\n",
       "125. 788\n",
       "126. 790\n",
       "127. 791\n",
       "128. 800\n",
       "129. 801\n",
       "130. 813\n",
       "131. 825\n",
       "132. 826\n",
       "133. 847\n",
       "134. 853\n",
       "135. 880\n",
       "136. 882\n",
       "137. 885\n",
       "138. 894\n",
       "139. 900\n",
       "140. 903\n",
       "141. 905\n",
       "142. 906\n",
       "143. 932\n",
       "144. 933\n",
       "145. 934\n",
       "146. 941\n",
       "147. 943\n",
       "148. 946\n",
       "149. 947\n",
       "150. 954\n",
       "151. 958\n",
       "152. 960\n",
       "153. 964\n",
       "154. 965\n",
       "155. 972\n",
       "156. 987\n",
       "157. 991\n",
       "158. 993\n",
       "159. 995\n",
       "160. 1001\n",
       "161. 1002\n",
       "162. 1003\n",
       "163. 1005\n",
       "164. 1006\n",
       "165. 1007\n",
       "166. 1008\n",
       "167. 1009\n",
       "168. 1012\n",
       "169. 1017\n",
       "170. 1018\n",
       "171. 1022\n",
       "172. 1023\n",
       "173. 1034\n",
       "174. 1036\n",
       "175. 1049\n",
       "176. 1055\n",
       "177. 1057\n",
       "178. 1063\n",
       "179. 1068\n",
       "180. 1069\n",
       "181. 1070\n",
       "182. 1074\n",
       "183. 1082\n",
       "184. 1083\n",
       "185. 1090\n",
       "186. 1095\n",
       "187. 1109\n",
       "188. 1110\n",
       "189. 1132\n",
       "190. 1136\n",
       "191. 1142\n",
       "192. 1143\n",
       "193. 1151\n",
       "194. 1152\n",
       "195. 1153\n",
       "196. 1156\n",
       "197. 1158\n",
       "198. 1161\n",
       "199. 1176\n",
       "200. 1177\n",
       "201. 1181\n",
       "202. 1183\n",
       "203. 1187\n",
       "204. 1188\n",
       "205. 1190\n",
       "206. 1191\n",
       "207. 1192\n",
       "208. 1194\n",
       "209. 1199\n",
       "210. 1201\n",
       "211. 1204\n",
       "212. 1206\n",
       "213. 1212\n",
       "214. 1223\n",
       "215. 1224\n",
       "216. 1225\n",
       "217. 1226\n",
       "218. 1242\n",
       "219. 1251\n",
       "220. 1263\n",
       "221. 1267\n",
       "222. 1269\n",
       "223. 1270\n",
       "224. 1299\n",
       "225. 1300\n",
       "226. 1304\n",
       "227. 1312\n",
       "228. 1314\n",
       "229. 1351\n",
       "230. 1360\n",
       "231. 1361\n",
       "232. 1363\n",
       "233. 1385\n",
       "234. 1386\n",
       "235. 1390\n",
       "236. 1394\n",
       "237. 1424\n",
       "238. 1425\n",
       "\n",
       "\n"
      ],
      "text/plain": [
       "  [1]   30   37   52   70  156  157  173  190  198  199  204  225  226  231  234\n",
       " [16]  237  238  240  242  250  251  261  263  288  289  293  294  297  299  300\n",
       " [31]  301  302  304  305  308  313  345  351  352  353  354  355  356  358  359\n",
       " [46]  361  363  365  366  370  371  374  395  397  398  399  400  403  409  443\n",
       " [61]  468  469  470  487  496  497  532  552  557  559  562  563  565  567  589\n",
       " [76]  599  601  602  607  608  609  616  617  618  629  630  638  641  642  644\n",
       " [91]  648  649  650  652  654  659  661  663  677  679  680  682  683  696  700\n",
       "[106]  702  703  704  706  711  712  717  719  722  725  726  728  734  747  753\n",
       "[121]  767  768  782  784  788  790  791  800  801  813  825  826  847  853  880\n",
       "[136]  882  885  894  900  903  905  906  932  933  934  941  943  946  947  954\n",
       "[151]  958  960  964  965  972  987  991  993  995 1001 1002 1003 1005 1006 1007\n",
       "[166] 1008 1009 1012 1017 1018 1022 1023 1034 1036 1049 1055 1057 1063 1068 1069\n",
       "[181] 1070 1074 1082 1083 1090 1095 1109 1110 1132 1136 1142 1143 1151 1152 1153\n",
       "[196] 1156 1158 1161 1176 1177 1181 1183 1187 1188 1190 1191 1192 1194 1199 1201\n",
       "[211] 1204 1206 1212 1223 1224 1225 1226 1242 1251 1263 1267 1269 1270 1299 1300\n",
       "[226] 1304 1312 1314 1351 1360 1361 1363 1385 1386 1390 1394 1424 1425"
      ]
     },
     "metadata": {},
     "output_type": "display_data"
    }
   ],
   "source": [
    "intersection <- intersect(map$points_in_vertex[[18]],map$points_in_vertex[[19]])\n",
    "intersection"
   ]
  },
  {
   "cell_type": "markdown",
   "id": "fluid-campaign",
   "metadata": {},
   "source": [
    "So all these indices in data_TDA are located in both vertices 18 and 19 in the output. If we want to see what percentage of each vertice this is, we can do:"
   ]
  },
  {
   "cell_type": "code",
   "execution_count": 33,
   "id": "neutral-folder",
   "metadata": {},
   "outputs": [
    {
     "data": {
      "text/html": [
       "0.277389277389277"
      ],
      "text/latex": [
       "0.277389277389277"
      ],
      "text/markdown": [
       "0.277389277389277"
      ],
      "text/plain": [
       "[1] 0.2773893"
      ]
     },
     "metadata": {},
     "output_type": "display_data"
    }
   ],
   "source": [
    "length(intersection)/length(map$points_in_vertex[[18]])"
   ]
  },
  {
   "cell_type": "code",
   "execution_count": 34,
   "id": "mighty-pocket",
   "metadata": {},
   "outputs": [
    {
     "data": {
      "text/html": [
       "0.425760286225403"
      ],
      "text/latex": [
       "0.425760286225403"
      ],
      "text/markdown": [
       "0.425760286225403"
      ],
      "text/plain": [
       "[1] 0.4257603"
      ]
     },
     "metadata": {},
     "output_type": "display_data"
    }
   ],
   "source": [
    "length(intersection)/length(map$points_in_vertex[[19]])"
   ]
  },
  {
   "cell_type": "markdown",
   "id": "incoming-confidentiality",
   "metadata": {},
   "source": [
    "So 27% of vertex 18 is also in 19, and 42% of 19 is also in 18.\n",
    "\n",
    "Now, we want to visualize the differences of the vertices when it comes to each variable. We will use suspendid solids (SS) as an example. This function to produce a boxplot takes the following parameters:\n",
    "\n",
    "map - the mapper object\n",
    "\n",
    "data - the data used to create the mapper object\n",
    "\n",
    "var - the variable we want to analyze"
   ]
  },
  {
   "cell_type": "code",
   "execution_count": 79,
   "id": "binding-extreme",
   "metadata": {},
   "outputs": [],
   "source": [
    "produce_boxplot <- function(map,data,var){\n",
    "  # Need to label each point by the vertex it is in\n",
    "  # Loop through the points in vertex list and assign the data\n",
    "  \n",
    "    # This is an annoying function of R because R likes to turn data into \"tibbles\" but we want data frames\n",
    "    data <- as.data.frame(data)\n",
    "    \n",
    "    data$VID <- 0\n",
    "  for(i in 1:length(map$points_in_vertex)){\n",
    "    # Assign the points in this vertex to this vertex\n",
    "    data[map$points_in_vertex[[i]],\"VID\"] <- i\n",
    "  }\n",
    "  \n",
    "  # Now make a boxplot for this variable\n",
    "\n",
    "  boxplot(data[,var]~VID,data=data, main=var,\n",
    "            xlab=\"Vertex ID\", ylab=var)\n",
    "}"
   ]
  },
  {
   "cell_type": "code",
   "execution_count": 80,
   "id": "lesser-courage",
   "metadata": {
    "scrolled": true
   },
   "outputs": [
    {
     "data": {
      "image/png": "[encoded data removed]",
      "text/plain": [
       "Plot with title \"SS\""
      ]
     },
     "metadata": {
      "image/png": {
       "height": 420,
       "width": 420
      }
     },
     "output_type": "display_data"
    }
   ],
   "source": [
    "produce_boxplot(map,data_TDA,\"SS\")"
   ]
  },
  {
   "cell_type": "markdown",
   "id": "national-terror",
   "metadata": {},
   "source": [
    "Now we can see visually the summary of suspendid solids for each vertex."
   ]
  }
 ],
 "metadata": {
  "kernelspec": {
   "display_name": "R",
   "language": "R",
   "name": "ir"
  },
  "language_info": {
   "codemirror_mode": "r",
   "file_extension": ".r",
   "mimetype": "text/x-r-source",
   "name": "R",
   "pygments_lexer": "r",
   "version": "4.0.2"
  }
 },
 "nbformat": 4,
 "nbformat_minor": 5
}
